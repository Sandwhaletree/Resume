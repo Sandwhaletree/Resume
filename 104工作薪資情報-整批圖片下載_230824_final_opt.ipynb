{
 "cells": [
  {
   "cell_type": "code",
   "execution_count": 2,
   "id": "bf0ad764",
   "metadata": {},
   "outputs": [
    {
     "name": "stdout",
     "output_type": "stream",
     "text": [
      "Requirement already satisfied: selenium in c:\\users\\user\\anaconda3\\lib\\site-packages (3.141.0)\n",
      "Requirement already satisfied: urllib3 in c:\\users\\user\\anaconda3\\lib\\site-packages (from selenium) (1.26.11)\n",
      "Requirement already satisfied: webdriver_manager in c:\\users\\user\\anaconda3\\lib\\site-packages (3.8.6)\n",
      "Requirement already satisfied: requests in c:\\users\\user\\anaconda3\\lib\\site-packages (from webdriver_manager) (2.31.0)\n",
      "Requirement already satisfied: packaging in c:\\users\\user\\anaconda3\\lib\\site-packages (from webdriver_manager) (21.3)\n",
      "Requirement already satisfied: python-dotenv in c:\\users\\user\\anaconda3\\lib\\site-packages (from webdriver_manager) (1.0.0)\n",
      "Requirement already satisfied: tqdm in c:\\users\\user\\anaconda3\\lib\\site-packages (from webdriver_manager) (4.64.1)\n",
      "Requirement already satisfied: pyparsing!=3.0.5,>=2.0.2 in c:\\users\\user\\anaconda3\\lib\\site-packages (from packaging->webdriver_manager) (3.0.9)\n",
      "Requirement already satisfied: idna<4,>=2.5 in c:\\users\\user\\anaconda3\\lib\\site-packages (from requests->webdriver_manager) (2.10)\n",
      "Requirement already satisfied: urllib3<3,>=1.21.1 in c:\\users\\user\\anaconda3\\lib\\site-packages (from requests->webdriver_manager) (1.26.11)\n",
      "Requirement already satisfied: certifi>=2017.4.17 in c:\\users\\user\\anaconda3\\lib\\site-packages (from requests->webdriver_manager) (2022.9.14)\n",
      "Requirement already satisfied: charset-normalizer<4,>=2 in c:\\users\\user\\anaconda3\\lib\\site-packages (from requests->webdriver_manager) (2.0.4)\n",
      "Requirement already satisfied: colorama in c:\\users\\user\\anaconda3\\lib\\site-packages (from tqdm->webdriver_manager) (0.4.5)\n"
     ]
    }
   ],
   "source": [
    "!pip install selenium\n",
    "!pip install webdriver_manager"
   ]
  },
  {
   "cell_type": "code",
   "execution_count": 5,
   "id": "d8f7affd",
   "metadata": {},
   "outputs": [
    {
     "name": "stdout",
     "output_type": "stream",
     "text": [
      "3.141.0\n"
     ]
    }
   ],
   "source": [
    "#查看版本\n",
    "import selenium\n",
    "print(selenium.__version__)"
   ]
  },
  {
   "cell_type": "code",
   "execution_count": 11,
   "id": "8e7bd558",
   "metadata": {},
   "outputs": [
    {
     "name": "stdout",
     "output_type": "stream",
     "text": [
      "Wall time: 0 ns\n",
      "請輸入想要搜尋的職位數據分析\n",
      "第0行: \n",
      "第1行: \n",
      "第2行: \n",
      "第3行: 數據分析師\n",
      "第4行: 數據分析實習生\n",
      "第5行: 數據分析工程師\n",
      "第6行: 數據分析專員\n",
      "第7行: 數據分析助理\n",
      "請輸入想要第幾個工作內容3\n",
      "完成截圖 2023-08-24_數據分析師_0_mix.png\n",
      "完成截圖 2023-08-24_數據分析師_1_workexp.png\n",
      "完成截圖 2023-08-24_數據分析師_2_area.png\n",
      "完成截圖 2023-08-24_數據分析師_3_industry.png\n",
      "完成截圖 2023-08-24_數據分析師_4_edu.png\n",
      "完成截圖 2023-08-24_數據分析師_5_scale.png\n"
     ]
    }
   ],
   "source": [
    "%time\n",
    "\n",
    "#匯入必要套件\n",
    "from selenium import webdriver\n",
    "from selenium.webdriver.common.by import By\n",
    "from selenium.webdriver.support.ui import WebDriverWait\n",
    "from selenium.webdriver.support import expected_conditions as EC\n",
    "import time\n",
    "import os\n",
    "import datetime\n",
    "\n",
    "# 定義函數來打開網站並選擇職位\n",
    "def open_website_and_select_job(title):\n",
    "    # 設置 Chrome 選項\n",
    "    options = webdriver.ChromeOptions()\n",
    "    options.add_argument('--no-sandbox')\n",
    "    options.add_argument('--disable-dev-shm-usage')\n",
    "\n",
    "    # 打開網站\n",
    "    os.chdir(\"C:\\\\Users\\\\USER\\\\OneDrive\\\\0_Jupiter_save\")\n",
    "    driver = webdriver.Chrome('./chromedriver', options=options)\n",
    "    driver.get(\"https://guide.104.com.tw/salary/\")\n",
    "\n",
    "    # 點選搜尋bar，產生下拉式選單\n",
    "    driver.find_element(By.CSS_SELECTOR, \"input[placeholder*='輸入職務或選類別']\").send_keys(title)\n",
    "    time.sleep(1)\n",
    "    driver.find_element(By.CSS_SELECTOR, \"input[placeholder*='輸入職務或選類別']\").click()\n",
    "    time.sleep(3)\n",
    "\n",
    "    # 了解目前有哪些keyword職缺(下單式選單項目)\n",
    "    elements = driver.find_elements(By.CLASS_NAME,'menuItem.cursor-pointer')\n",
    "    n=0\n",
    "    for element in elements:\n",
    "        print('第'+str(n)+'行:',element.text)\n",
    "        n+=1\n",
    "\n",
    "    # 選擇想要的keyword職缺\n",
    "    title_want = int(input(\"請輸入想要第幾個工作內容\"))\n",
    "    title_job = driver.find_elements(By.CLASS_NAME, 'menuItem.cursor-pointer')[title_want].text\n",
    "\n",
    "    # 確定符合職稱，再次點選[確保[3].text皆一致]\n",
    "    driver.find_elements(By.CLASS_NAME, 'menuItem.cursor-pointer')[title_want].click()\n",
    "\n",
    "    # 點擊搜尋，產生url\n",
    "    driver.find_element(By.CSS_SELECTOR, 'button').click()\n",
    "\n",
    "    # 等待新的網址載入\n",
    "    WebDriverWait(driver, 6).until(lambda d: \"workexp\" in d.current_url)\n",
    "\n",
    "    # 產生目前網址\n",
    "    url_now = driver.current_url\n",
    "    url_now = url_now.replace(\"workexp\", \"{}\")\n",
    "\n",
    "    return driver, url_now, title_job\n",
    "\n",
    "# 定義函數來擷取薪資資訊圖片\n",
    "def capture_salary_images(driver, url_now, title_job):\n",
    "    # 輸入欲查詢分頁\n",
    "    search = ['mix', 'workexp', 'area', 'industry', 'edu', 'scale']\n",
    "    driver.set_window_size(1200, 900)\n",
    "\n",
    "    # 更改路徑\n",
    "    os.chdir('C:\\\\Users\\\\USER\\\\OneDrive\\\\0_Jupiter_save\\\\104職業薪資水位_整批圖片下載')\n",
    "\n",
    "    # 建立新檔並將檔案移至新資料夾\n",
    "    if not os.path.isdir(title_job):\n",
    "        os.mkdir(title_job)\n",
    "        print('建立', title_job, '資料夾完成')\n",
    "    os.chdir(f'./{title_job}')\n",
    "\n",
    "    # 逐步開啟分頁印出\n",
    "    for i in range(len(search)):\n",
    "        driver.get(url_now.format(search[i]))\n",
    "        driver.execute_script(\"document.body.style.zoom='0.5';\") #縮小視窗\n",
    "        time.sleep(5)\n",
    "\n",
    "        # 網頁截圖\n",
    "        date = str(datetime.date.today())\n",
    "        pic_name = date + '_' + title_job + '_' + str(i) + '_' + search[i] + '.png'\n",
    "        driver.save_screenshot(pic_name)\n",
    "        print('完成截圖', pic_name)\n",
    "\n",
    "    driver.quit()\n",
    "\n",
    "# 主要程式執行\n",
    "title = input(\"請輸入想要搜尋的職位\")  # ex:區塊鏈\n",
    "driver, url_now, title_job = open_website_and_select_job(title)\n",
<<<<<<< HEAD:104工作薪資情報-整批圖片下載_230824_final_opt.ipynb
    "capture_salary_images(driver, url_now, title_job)\n"
=======
    "capture_salary_images(driver, url_now, title_job)\n",
    "\n",
>>>>>>> 1ccc92b0e704f213f762e3a63b6a8218a0c0ddef:104工作薪資情報-整批圖片下載_230824_final_v1.ipynb
   ]
  },
  {
   "cell_type": "code",
   "execution_count": null,
   "id": "50616da7",
   "metadata": {},
   "outputs": [],
   "source": [
    "# 關閉 WebDriver\n",
    "driver.quit()"
   ]
  },
  {
   "cell_type": "code",
   "execution_count": null,
   "id": "8e05dc9a",
   "metadata": {},
   "outputs": [],
   "source": []
  }
 ],
 "metadata": {
  "kernelspec": {
   "display_name": "Python 3 (ipykernel)",
   "language": "python",
   "name": "python3"
  },
  "language_info": {
   "codemirror_mode": {
    "name": "ipython",
    "version": 3
   },
   "file_extension": ".py",
   "mimetype": "text/x-python",
   "name": "python",
   "nbconvert_exporter": "python",
   "pygments_lexer": "ipython3",
   "version": "3.9.13"
  }
 },
 "nbformat": 4,
 "nbformat_minor": 5
}
